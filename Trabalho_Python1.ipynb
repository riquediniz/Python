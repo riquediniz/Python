{
  "nbformat": 4,
  "nbformat_minor": 0,
  "metadata": {
    "colab": {
      "provenance": [],
      "authorship_tag": "ABX9TyPgZdWziRyKiboIVD3vfYlQ",
      "include_colab_link": true
    },
    "kernelspec": {
      "name": "python3",
      "display_name": "Python 3"
    },
    "language_info": {
      "name": "python"
    }
  },
  "cells": [
    {
      "cell_type": "markdown",
      "metadata": {
        "id": "view-in-github",
        "colab_type": "text"
      },
      "source": [
        "<a href=\"https://colab.research.google.com/github/riquediniz/Python/blob/main/Trabalho_Python1.ipynb\" target=\"_parent\"><img src=\"https://colab.research.google.com/assets/colab-badge.svg\" alt=\"Open In Colab\"/></a>"
      ]
    },
    {
      "cell_type": "markdown",
      "source": [
        "Link da Base: https://www.kaggle.com/datasets/equilibriumm/sleep-efficiency?resource=download"
      ],
      "metadata": {
        "id": "0dV0Y8uwmcIL"
      }
    },
    {
      "cell_type": "code",
      "execution_count": null,
      "metadata": {
        "colab": {
          "base_uri": "https://localhost:8080/",
          "height": 659
        },
        "id": "a62beqMzCCfD",
        "outputId": "c3c7fbf2-3358-471e-9f6d-f35711fc8044"
      },
      "outputs": [
        {
          "output_type": "execute_result",
          "data": {
            "text/plain": [
              "      ID  Age  Gender              Bedtime          Wakeup time  \\\n",
              "0      1   65  Female  2021-03-06 01:00:00  2021-03-06 07:00:00   \n",
              "1      2   69    Male  2021-12-05 02:00:00  2021-12-05 09:00:00   \n",
              "2      3   40  Female  2021-05-25 21:30:00  2021-05-25 05:30:00   \n",
              "3      4   40  Female  2021-11-03 02:30:00  2021-11-03 08:30:00   \n",
              "4      5   57    Male  2021-03-13 01:00:00  2021-03-13 09:00:00   \n",
              "..   ...  ...     ...                  ...                  ...   \n",
              "447  448   27  Female  2021-11-13 22:00:00  2021-11-13 05:30:00   \n",
              "448  449   52    Male  2021-03-31 21:00:00  2021-03-31 03:00:00   \n",
              "449  450   40  Female  2021-09-07 23:00:00  2021-09-07 07:30:00   \n",
              "450  451   45    Male  2021-07-29 21:00:00  2021-07-29 04:00:00   \n",
              "451  452   18    Male  2021-03-17 02:30:00  2021-03-17 10:00:00   \n",
              "\n",
              "     Sleep duration  Sleep efficiency  REM sleep percentage  \\\n",
              "0               6.0              0.88                    18   \n",
              "1               7.0              0.66                    19   \n",
              "2               8.0              0.89                    20   \n",
              "3               6.0              0.51                    23   \n",
              "4               8.0              0.76                    27   \n",
              "..              ...               ...                   ...   \n",
              "447             7.5              0.91                    22   \n",
              "448             6.0              0.74                    28   \n",
              "449             8.5              0.55                    20   \n",
              "450             7.0              0.76                    18   \n",
              "451             7.5              0.63                    22   \n",
              "\n",
              "     Deep sleep percentage  Light sleep percentage  Awakenings  \\\n",
              "0                       70                      12         0.0   \n",
              "1                       28                      53         3.0   \n",
              "2                       70                      10         1.0   \n",
              "3                       25                      52         3.0   \n",
              "4                       55                      18         3.0   \n",
              "..                     ...                     ...         ...   \n",
              "447                     57                      21         0.0   \n",
              "448                     57                      15         4.0   \n",
              "449                     32                      48         1.0   \n",
              "450                     72                      10         3.0   \n",
              "451                     23                      55         1.0   \n",
              "\n",
              "     Caffeine consumption  Alcohol consumption Smoking status  \\\n",
              "0                     0.0                  0.0            Yes   \n",
              "1                     0.0                  3.0            Yes   \n",
              "2                     0.0                  0.0             No   \n",
              "3                    50.0                  5.0            Yes   \n",
              "4                     0.0                  3.0             No   \n",
              "..                    ...                  ...            ...   \n",
              "447                   0.0                  0.0             No   \n",
              "448                  25.0                  0.0             No   \n",
              "449                   NaN                  3.0            Yes   \n",
              "450                   0.0                  0.0             No   \n",
              "451                  50.0                  0.0             No   \n",
              "\n",
              "     Exercise frequency  \n",
              "0                   3.0  \n",
              "1                   3.0  \n",
              "2                   3.0  \n",
              "3                   1.0  \n",
              "4                   3.0  \n",
              "..                  ...  \n",
              "447                 5.0  \n",
              "448                 3.0  \n",
              "449                 0.0  \n",
              "450                 3.0  \n",
              "451                 1.0  \n",
              "\n",
              "[452 rows x 15 columns]"
            ],
            "text/html": [
              "\n",
              "  <div id=\"df-f9f311a3-c97b-4af3-b477-116ca97477d0\">\n",
              "    <div class=\"colab-df-container\">\n",
              "      <div>\n",
              "<style scoped>\n",
              "    .dataframe tbody tr th:only-of-type {\n",
              "        vertical-align: middle;\n",
              "    }\n",
              "\n",
              "    .dataframe tbody tr th {\n",
              "        vertical-align: top;\n",
              "    }\n",
              "\n",
              "    .dataframe thead th {\n",
              "        text-align: right;\n",
              "    }\n",
              "</style>\n",
              "<table border=\"1\" class=\"dataframe\">\n",
              "  <thead>\n",
              "    <tr style=\"text-align: right;\">\n",
              "      <th></th>\n",
              "      <th>ID</th>\n",
              "      <th>Age</th>\n",
              "      <th>Gender</th>\n",
              "      <th>Bedtime</th>\n",
              "      <th>Wakeup time</th>\n",
              "      <th>Sleep duration</th>\n",
              "      <th>Sleep efficiency</th>\n",
              "      <th>REM sleep percentage</th>\n",
              "      <th>Deep sleep percentage</th>\n",
              "      <th>Light sleep percentage</th>\n",
              "      <th>Awakenings</th>\n",
              "      <th>Caffeine consumption</th>\n",
              "      <th>Alcohol consumption</th>\n",
              "      <th>Smoking status</th>\n",
              "      <th>Exercise frequency</th>\n",
              "    </tr>\n",
              "  </thead>\n",
              "  <tbody>\n",
              "    <tr>\n",
              "      <th>0</th>\n",
              "      <td>1</td>\n",
              "      <td>65</td>\n",
              "      <td>Female</td>\n",
              "      <td>2021-03-06 01:00:00</td>\n",
              "      <td>2021-03-06 07:00:00</td>\n",
              "      <td>6.0</td>\n",
              "      <td>0.88</td>\n",
              "      <td>18</td>\n",
              "      <td>70</td>\n",
              "      <td>12</td>\n",
              "      <td>0.0</td>\n",
              "      <td>0.0</td>\n",
              "      <td>0.0</td>\n",
              "      <td>Yes</td>\n",
              "      <td>3.0</td>\n",
              "    </tr>\n",
              "    <tr>\n",
              "      <th>1</th>\n",
              "      <td>2</td>\n",
              "      <td>69</td>\n",
              "      <td>Male</td>\n",
              "      <td>2021-12-05 02:00:00</td>\n",
              "      <td>2021-12-05 09:00:00</td>\n",
              "      <td>7.0</td>\n",
              "      <td>0.66</td>\n",
              "      <td>19</td>\n",
              "      <td>28</td>\n",
              "      <td>53</td>\n",
              "      <td>3.0</td>\n",
              "      <td>0.0</td>\n",
              "      <td>3.0</td>\n",
              "      <td>Yes</td>\n",
              "      <td>3.0</td>\n",
              "    </tr>\n",
              "    <tr>\n",
              "      <th>2</th>\n",
              "      <td>3</td>\n",
              "      <td>40</td>\n",
              "      <td>Female</td>\n",
              "      <td>2021-05-25 21:30:00</td>\n",
              "      <td>2021-05-25 05:30:00</td>\n",
              "      <td>8.0</td>\n",
              "      <td>0.89</td>\n",
              "      <td>20</td>\n",
              "      <td>70</td>\n",
              "      <td>10</td>\n",
              "      <td>1.0</td>\n",
              "      <td>0.0</td>\n",
              "      <td>0.0</td>\n",
              "      <td>No</td>\n",
              "      <td>3.0</td>\n",
              "    </tr>\n",
              "    <tr>\n",
              "      <th>3</th>\n",
              "      <td>4</td>\n",
              "      <td>40</td>\n",
              "      <td>Female</td>\n",
              "      <td>2021-11-03 02:30:00</td>\n",
              "      <td>2021-11-03 08:30:00</td>\n",
              "      <td>6.0</td>\n",
              "      <td>0.51</td>\n",
              "      <td>23</td>\n",
              "      <td>25</td>\n",
              "      <td>52</td>\n",
              "      <td>3.0</td>\n",
              "      <td>50.0</td>\n",
              "      <td>5.0</td>\n",
              "      <td>Yes</td>\n",
              "      <td>1.0</td>\n",
              "    </tr>\n",
              "    <tr>\n",
              "      <th>4</th>\n",
              "      <td>5</td>\n",
              "      <td>57</td>\n",
              "      <td>Male</td>\n",
              "      <td>2021-03-13 01:00:00</td>\n",
              "      <td>2021-03-13 09:00:00</td>\n",
              "      <td>8.0</td>\n",
              "      <td>0.76</td>\n",
              "      <td>27</td>\n",
              "      <td>55</td>\n",
              "      <td>18</td>\n",
              "      <td>3.0</td>\n",
              "      <td>0.0</td>\n",
              "      <td>3.0</td>\n",
              "      <td>No</td>\n",
              "      <td>3.0</td>\n",
              "    </tr>\n",
              "    <tr>\n",
              "      <th>...</th>\n",
              "      <td>...</td>\n",
              "      <td>...</td>\n",
              "      <td>...</td>\n",
              "      <td>...</td>\n",
              "      <td>...</td>\n",
              "      <td>...</td>\n",
              "      <td>...</td>\n",
              "      <td>...</td>\n",
              "      <td>...</td>\n",
              "      <td>...</td>\n",
              "      <td>...</td>\n",
              "      <td>...</td>\n",
              "      <td>...</td>\n",
              "      <td>...</td>\n",
              "      <td>...</td>\n",
              "    </tr>\n",
              "    <tr>\n",
              "      <th>447</th>\n",
              "      <td>448</td>\n",
              "      <td>27</td>\n",
              "      <td>Female</td>\n",
              "      <td>2021-11-13 22:00:00</td>\n",
              "      <td>2021-11-13 05:30:00</td>\n",
              "      <td>7.5</td>\n",
              "      <td>0.91</td>\n",
              "      <td>22</td>\n",
              "      <td>57</td>\n",
              "      <td>21</td>\n",
              "      <td>0.0</td>\n",
              "      <td>0.0</td>\n",
              "      <td>0.0</td>\n",
              "      <td>No</td>\n",
              "      <td>5.0</td>\n",
              "    </tr>\n",
              "    <tr>\n",
              "      <th>448</th>\n",
              "      <td>449</td>\n",
              "      <td>52</td>\n",
              "      <td>Male</td>\n",
              "      <td>2021-03-31 21:00:00</td>\n",
              "      <td>2021-03-31 03:00:00</td>\n",
              "      <td>6.0</td>\n",
              "      <td>0.74</td>\n",
              "      <td>28</td>\n",
              "      <td>57</td>\n",
              "      <td>15</td>\n",
              "      <td>4.0</td>\n",
              "      <td>25.0</td>\n",
              "      <td>0.0</td>\n",
              "      <td>No</td>\n",
              "      <td>3.0</td>\n",
              "    </tr>\n",
              "    <tr>\n",
              "      <th>449</th>\n",
              "      <td>450</td>\n",
              "      <td>40</td>\n",
              "      <td>Female</td>\n",
              "      <td>2021-09-07 23:00:00</td>\n",
              "      <td>2021-09-07 07:30:00</td>\n",
              "      <td>8.5</td>\n",
              "      <td>0.55</td>\n",
              "      <td>20</td>\n",
              "      <td>32</td>\n",
              "      <td>48</td>\n",
              "      <td>1.0</td>\n",
              "      <td>NaN</td>\n",
              "      <td>3.0</td>\n",
              "      <td>Yes</td>\n",
              "      <td>0.0</td>\n",
              "    </tr>\n",
              "    <tr>\n",
              "      <th>450</th>\n",
              "      <td>451</td>\n",
              "      <td>45</td>\n",
              "      <td>Male</td>\n",
              "      <td>2021-07-29 21:00:00</td>\n",
              "      <td>2021-07-29 04:00:00</td>\n",
              "      <td>7.0</td>\n",
              "      <td>0.76</td>\n",
              "      <td>18</td>\n",
              "      <td>72</td>\n",
              "      <td>10</td>\n",
              "      <td>3.0</td>\n",
              "      <td>0.0</td>\n",
              "      <td>0.0</td>\n",
              "      <td>No</td>\n",
              "      <td>3.0</td>\n",
              "    </tr>\n",
              "    <tr>\n",
              "      <th>451</th>\n",
              "      <td>452</td>\n",
              "      <td>18</td>\n",
              "      <td>Male</td>\n",
              "      <td>2021-03-17 02:30:00</td>\n",
              "      <td>2021-03-17 10:00:00</td>\n",
              "      <td>7.5</td>\n",
              "      <td>0.63</td>\n",
              "      <td>22</td>\n",
              "      <td>23</td>\n",
              "      <td>55</td>\n",
              "      <td>1.0</td>\n",
              "      <td>50.0</td>\n",
              "      <td>0.0</td>\n",
              "      <td>No</td>\n",
              "      <td>1.0</td>\n",
              "    </tr>\n",
              "  </tbody>\n",
              "</table>\n",
              "<p>452 rows × 15 columns</p>\n",
              "</div>\n",
              "      <button class=\"colab-df-convert\" onclick=\"convertToInteractive('df-f9f311a3-c97b-4af3-b477-116ca97477d0')\"\n",
              "              title=\"Convert this dataframe to an interactive table.\"\n",
              "              style=\"display:none;\">\n",
              "        \n",
              "  <svg xmlns=\"http://www.w3.org/2000/svg\" height=\"24px\"viewBox=\"0 0 24 24\"\n",
              "       width=\"24px\">\n",
              "    <path d=\"M0 0h24v24H0V0z\" fill=\"none\"/>\n",
              "    <path d=\"M18.56 5.44l.94 2.06.94-2.06 2.06-.94-2.06-.94-.94-2.06-.94 2.06-2.06.94zm-11 1L8.5 8.5l.94-2.06 2.06-.94-2.06-.94L8.5 2.5l-.94 2.06-2.06.94zm10 10l.94 2.06.94-2.06 2.06-.94-2.06-.94-.94-2.06-.94 2.06-2.06.94z\"/><path d=\"M17.41 7.96l-1.37-1.37c-.4-.4-.92-.59-1.43-.59-.52 0-1.04.2-1.43.59L10.3 9.45l-7.72 7.72c-.78.78-.78 2.05 0 2.83L4 21.41c.39.39.9.59 1.41.59.51 0 1.02-.2 1.41-.59l7.78-7.78 2.81-2.81c.8-.78.8-2.07 0-2.86zM5.41 20L4 18.59l7.72-7.72 1.47 1.35L5.41 20z\"/>\n",
              "  </svg>\n",
              "      </button>\n",
              "      \n",
              "  <style>\n",
              "    .colab-df-container {\n",
              "      display:flex;\n",
              "      flex-wrap:wrap;\n",
              "      gap: 12px;\n",
              "    }\n",
              "\n",
              "    .colab-df-convert {\n",
              "      background-color: #E8F0FE;\n",
              "      border: none;\n",
              "      border-radius: 50%;\n",
              "      cursor: pointer;\n",
              "      display: none;\n",
              "      fill: #1967D2;\n",
              "      height: 32px;\n",
              "      padding: 0 0 0 0;\n",
              "      width: 32px;\n",
              "    }\n",
              "\n",
              "    .colab-df-convert:hover {\n",
              "      background-color: #E2EBFA;\n",
              "      box-shadow: 0px 1px 2px rgba(60, 64, 67, 0.3), 0px 1px 3px 1px rgba(60, 64, 67, 0.15);\n",
              "      fill: #174EA6;\n",
              "    }\n",
              "\n",
              "    [theme=dark] .colab-df-convert {\n",
              "      background-color: #3B4455;\n",
              "      fill: #D2E3FC;\n",
              "    }\n",
              "\n",
              "    [theme=dark] .colab-df-convert:hover {\n",
              "      background-color: #434B5C;\n",
              "      box-shadow: 0px 1px 3px 1px rgba(0, 0, 0, 0.15);\n",
              "      filter: drop-shadow(0px 1px 2px rgba(0, 0, 0, 0.3));\n",
              "      fill: #FFFFFF;\n",
              "    }\n",
              "  </style>\n",
              "\n",
              "      <script>\n",
              "        const buttonEl =\n",
              "          document.querySelector('#df-f9f311a3-c97b-4af3-b477-116ca97477d0 button.colab-df-convert');\n",
              "        buttonEl.style.display =\n",
              "          google.colab.kernel.accessAllowed ? 'block' : 'none';\n",
              "\n",
              "        async function convertToInteractive(key) {\n",
              "          const element = document.querySelector('#df-f9f311a3-c97b-4af3-b477-116ca97477d0');\n",
              "          const dataTable =\n",
              "            await google.colab.kernel.invokeFunction('convertToInteractive',\n",
              "                                                     [key], {});\n",
              "          if (!dataTable) return;\n",
              "\n",
              "          const docLinkHtml = 'Like what you see? Visit the ' +\n",
              "            '<a target=\"_blank\" href=https://colab.research.google.com/notebooks/data_table.ipynb>data table notebook</a>'\n",
              "            + ' to learn more about interactive tables.';\n",
              "          element.innerHTML = '';\n",
              "          dataTable['output_type'] = 'display_data';\n",
              "          await google.colab.output.renderOutput(dataTable, element);\n",
              "          const docLink = document.createElement('div');\n",
              "          docLink.innerHTML = docLinkHtml;\n",
              "          element.appendChild(docLink);\n",
              "        }\n",
              "      </script>\n",
              "    </div>\n",
              "  </div>\n",
              "  "
            ]
          },
          "metadata": {},
          "execution_count": 3
        }
      ],
      "source": [
        "import pandas as pd\n",
        "data = pd.read_csv('/Sleep_Efficiency.csv')\n",
        "data"
      ]
    },
    {
      "cell_type": "code",
      "source": [
        "qtd_por_genero = data.groupby('Gender').count()['ID']\n",
        "qtd_por_genero"
      ],
      "metadata": {
        "colab": {
          "base_uri": "https://localhost:8080/"
        },
        "id": "nCvRhAeGDJa-",
        "outputId": "eac56778-9be3-4950-9357-8aae60eabe29"
      },
      "execution_count": null,
      "outputs": [
        {
          "output_type": "execute_result",
          "data": {
            "text/plain": [
              "Gender\n",
              "Female    224\n",
              "Male      228\n",
              "Name: ID, dtype: int64"
            ]
          },
          "metadata": {},
          "execution_count": 4
        }
      ]
    },
    {
      "cell_type": "markdown",
      "source": [
        "Por se tratar de uma base de dados equilibridada entre variável categórica Gênero, podemos inferir alguns pontos utilizando a média de cada coluna para tal"
      ],
      "metadata": {
        "id": "oRR7Z4R9DQD6"
      }
    },
    {
      "cell_type": "code",
      "source": [
        "med_sono = data.groupby('Gender').mean()['Sleep duration']\n",
        "med_sono"
      ],
      "metadata": {
        "colab": {
          "base_uri": "https://localhost:8080/"
        },
        "id": "l-7YOcC4Dinp",
        "outputId": "9c7968fd-b5db-43b2-f2c9-97a14fd60b39"
      },
      "execution_count": null,
      "outputs": [
        {
          "output_type": "execute_result",
          "data": {
            "text/plain": [
              "Gender\n",
              "Female    7.504464\n",
              "Male      7.427632\n",
              "Name: Sleep duration, dtype: float64"
            ]
          },
          "metadata": {},
          "execution_count": 5
        }
      ]
    },
    {
      "cell_type": "code",
      "source": [
        "med_efisono = data.groupby('Gender').mean()['Sleep efficiency']\n",
        "med_efisono"
      ],
      "metadata": {
        "colab": {
          "base_uri": "https://localhost:8080/"
        },
        "id": "kU1F-hAmDmtL",
        "outputId": "d26214dd-0e9f-42e6-8a3c-7cb7543256d5"
      },
      "execution_count": null,
      "outputs": [
        {
          "output_type": "execute_result",
          "data": {
            "text/plain": [
              "Gender\n",
              "Female    0.787545\n",
              "Male      0.790263\n",
              "Name: Sleep efficiency, dtype: float64"
            ]
          },
          "metadata": {},
          "execution_count": 6
        }
      ]
    },
    {
      "cell_type": "code",
      "source": [
        "qtd_cafe= data.groupby('Gender').mean()['Caffeine consumption']\n",
        "qtd_cafe"
      ],
      "metadata": {
        "colab": {
          "base_uri": "https://localhost:8080/"
        },
        "id": "Ru3FCLpGDqKS",
        "outputId": "ba8fd37b-d759-4467-cdad-402a69fd5fee"
      },
      "execution_count": null,
      "outputs": [
        {
          "output_type": "execute_result",
          "data": {
            "text/plain": [
              "Gender\n",
              "Female    31.279621\n",
              "Male      16.203704\n",
              "Name: Caffeine consumption, dtype: float64"
            ]
          },
          "metadata": {},
          "execution_count": 7
        }
      ]
    },
    {
      "cell_type": "code",
      "source": [
        "med_sono= data.groupby('Gender').mean()['Sleep duration']\n",
        "med_sono"
      ],
      "metadata": {
        "colab": {
          "base_uri": "https://localhost:8080/"
        },
        "id": "QBKMsGc3Ds4p",
        "outputId": "f35d6333-5796-4fb9-c075-a70c662d563b"
      },
      "execution_count": null,
      "outputs": [
        {
          "output_type": "execute_result",
          "data": {
            "text/plain": [
              "Gender\n",
              "Female    7.504464\n",
              "Male      7.427632\n",
              "Name: Sleep duration, dtype: float64"
            ]
          },
          "metadata": {},
          "execution_count": 8
        }
      ]
    },
    {
      "cell_type": "code",
      "source": [
        "sonoleve = data.groupby('Gender').mean()['Light sleep percentage']\n",
        "sonoleve"
      ],
      "metadata": {
        "colab": {
          "base_uri": "https://localhost:8080/"
        },
        "id": "vk-mEfUJDwCF",
        "outputId": "c6e33e44-1832-4f47-fce9-0c73d2917e2e"
      },
      "execution_count": null,
      "outputs": [
        {
          "output_type": "execute_result",
          "data": {
            "text/plain": [
              "Gender\n",
              "Female    25.187500\n",
              "Male      23.947368\n",
              "Name: Light sleep percentage, dtype: float64"
            ]
          },
          "metadata": {},
          "execution_count": 9
        }
      ]
    },
    {
      "cell_type": "code",
      "source": [
        "consumoA = data.groupby('Gender').mean()['Alcohol consumption']\n",
        "consumoA"
      ],
      "metadata": {
        "colab": {
          "base_uri": "https://localhost:8080/"
        },
        "id": "H9pPkCkjEEKa",
        "outputId": "6162f9ed-6f1d-43ee-ddac-f0a38ca766ab"
      },
      "execution_count": null,
      "outputs": [
        {
          "output_type": "execute_result",
          "data": {
            "text/plain": [
              "Gender\n",
              "Female    1.077626\n",
              "Male      1.269406\n",
              "Name: Alcohol consumption, dtype: float64"
            ]
          },
          "metadata": {},
          "execution_count": 10
        }
      ]
    },
    {
      "cell_type": "code",
      "source": [
        "exer = data.groupby('Gender').mean()['Exercise frequency']\n",
        "exer"
      ],
      "metadata": {
        "colab": {
          "base_uri": "https://localhost:8080/"
        },
        "id": "AnRrgb2xEFGJ",
        "outputId": "a037bed2-4682-470b-c270-08e82eb6b40f"
      },
      "execution_count": null,
      "outputs": [
        {
          "output_type": "execute_result",
          "data": {
            "text/plain": [
              "Gender\n",
              "Female    1.459459\n",
              "Male      2.120536\n",
              "Name: Exercise frequency, dtype: float64"
            ]
          },
          "metadata": {},
          "execution_count": 11
        }
      ]
    },
    {
      "cell_type": "markdown",
      "source": [
        "A partir das médias separadas por gênero da população pesquisada podemos inferir que:\n",
        "\n",
        "\n",
        "1.   Mesmo as mulheres dormindo por mais tempo, os homens possuem uma qualidade de sono melhor;\n",
        "2.   Pelo excesso de cafeína ingerida pela população feminina da amostra, temos que elas passam mais tempo no estado de sono leve que os homens, assim dimuindo a eficiência de seu sono\n",
        "3.   A frequência de exercícios também parece influenciar a eficiência do sono, visto que a população masculina possui maior índice de exercícios físicos e eficiência do que a população feminina analisada.\n",
        "\n",
        "\n",
        "\n",
        "\n"
      ],
      "metadata": {
        "id": "DlvYrTG_EJ_q"
      }
    },
    {
      "cell_type": "markdown",
      "source": [
        "A seguir será representado dois gráficos (um para a população masculina e outra para a feminina) de barra para comparação dos índices analisados para as conclusões acima"
      ],
      "metadata": {
        "id": "UVUc4ISgES0z"
      }
    },
    {
      "cell_type": "code",
      "source": [
        "analiseFem = data[data['Gender']== 'Female']\n",
        "atributosFem = analiseFem.groupby('Gender').mean()[['Caffeine consumption', 'Exercise frequency', 'Sleep efficiency','Sleep duration']]\n",
        "atributosFem.plot(kind='bar')"
      ],
      "metadata": {
        "colab": {
          "base_uri": "https://localhost:8080/",
          "height": 322
        },
        "id": "Z-LVYkPMER7U",
        "outputId": "4f217dab-ceb4-474f-a6b9-83a143cac62b"
      },
      "execution_count": null,
      "outputs": [
        {
          "output_type": "execute_result",
          "data": {
            "text/plain": [
              "<AxesSubplot:xlabel='Gender'>"
            ]
          },
          "metadata": {},
          "execution_count": 12
        },
        {
          "output_type": "display_data",
          "data": {
            "text/plain": [
              "<Figure size 432x288 with 1 Axes>"
            ],
            "image/png": "[encoded data removed]"
          },
          "metadata": {
            "needs_background": "light"
          }
        }
      ]
    },
    {
      "cell_type": "code",
      "source": [
        "analiseFem = data[data['Gender']== 'Male']\n",
        "atributosFem = analiseFem.groupby('Gender').mean()[['Caffeine consumption', 'Exercise frequency', 'Sleep efficiency','Sleep duration']]\n",
        "atributosFem.plot(kind='bar')"
      ],
      "metadata": {
        "colab": {
          "base_uri": "https://localhost:8080/",
          "height": 310
        },
        "id": "nd1xx7KQFmrA",
        "outputId": "a2171464-5db0-4de4-a209-54113bff2e71"
      },
      "execution_count": null,
      "outputs": [
        {
          "output_type": "execute_result",
          "data": {
            "text/plain": [
              "<AxesSubplot:xlabel='Gender'>"
            ]
          },
          "metadata": {},
          "execution_count": 13
        },
        {
          "output_type": "display_data",
          "data": {
            "text/plain": [
              "<Figure size 432x288 with 1 Axes>"
            ],
            "image/png": "[encoded data removed]"
          },
          "metadata": {
            "needs_background": "light"
          }
        }
      ]
    },
    {
      "cell_type": "markdown",
      "source": [
        "A seguir será demonstrada a análise da variável mais estudada nesse projeto, Eficiência de Sono, a partir da ótica de um histograma e de um boxplot."
      ],
      "metadata": {
        "id": "oLV9UZF2F3Av"
      }
    },
    {
      "cell_type": "code",
      "source": [
        "data['Sleep efficiency'].describe()"
      ],
      "metadata": {
        "colab": {
          "base_uri": "https://localhost:8080/"
        },
        "id": "rT3udOw9IfBj",
        "outputId": "49322409-0eb2-4f32-8155-7b95ac85318b"
      },
      "execution_count": null,
      "outputs": [
        {
          "output_type": "execute_result",
          "data": {
            "text/plain": [
              "count    452.000000\n",
              "mean       0.788916\n",
              "std        0.135237\n",
              "min        0.500000\n",
              "25%        0.697500\n",
              "50%        0.820000\n",
              "75%        0.900000\n",
              "max        0.990000\n",
              "Name: Sleep efficiency, dtype: float64"
            ]
          },
          "metadata": {},
          "execution_count": 22
        }
      ]
    },
    {
      "cell_type": "code",
      "source": [
        "import seaborn as sns\n",
        "sns.distplot(data['Sleep efficiency'], bins=[0.1,0.3,0.5,0.7,0.9])"
      ],
      "metadata": {
        "colab": {
          "base_uri": "https://localhost:8080/",
          "height": 351
        },
        "id": "YSlPx4NNFq4e",
        "outputId": "b27b6714-d275-41c6-8761-65d6c7ac91a4"
      },
      "execution_count": null,
      "outputs": [
        {
          "output_type": "stream",
          "name": "stderr",
          "text": [
            "/usr/local/lib/python3.8/dist-packages/seaborn/distributions.py:2619: FutureWarning: `distplot` is a deprecated function and will be removed in a future version. Please adapt your code to use either `displot` (a figure-level function with similar flexibility) or `histplot` (an axes-level function for histograms).\n",
            "  warnings.warn(msg, FutureWarning)\n"
          ]
        },
        {
          "output_type": "execute_result",
          "data": {
            "text/plain": [
              "<AxesSubplot:xlabel='Sleep efficiency', ylabel='Density'>"
            ]
          },
          "metadata": {},
          "execution_count": 23
        },
        {
          "output_type": "display_data",
          "data": {
            "text/plain": [
              "<Figure size 432x288 with 1 Axes>"
            ],
            "image/png": "[encoded data removed]"
          },
          "metadata": {
            "needs_background": "light"
          }
        }
      ]
    },
    {
      "cell_type": "code",
      "source": [
        "sns.boxplot(data['Sleep efficiency'], palette=\"Pastel1\")"
      ],
      "metadata": {
        "colab": {
          "base_uri": "https://localhost:8080/",
          "height": 351
        },
        "id": "pNX90aR4HBG1",
        "outputId": "88ba4fbf-eaea-4182-9728-ec71f3f0aebd"
      },
      "execution_count": null,
      "outputs": [
        {
          "output_type": "stream",
          "name": "stderr",
          "text": [
            "/usr/local/lib/python3.8/dist-packages/seaborn/_decorators.py:36: FutureWarning: Pass the following variable as a keyword arg: x. From version 0.12, the only valid positional argument will be `data`, and passing other arguments without an explicit keyword will result in an error or misinterpretation.\n",
            "  warnings.warn(\n"
          ]
        },
        {
          "output_type": "execute_result",
          "data": {
            "text/plain": [
              "<AxesSubplot:xlabel='Sleep efficiency'>"
            ]
          },
          "metadata": {},
          "execution_count": 18
        },
        {
          "output_type": "display_data",
          "data": {
            "text/plain": [
              "<Figure size 432x288 with 1 Axes>"
            ],
            "image/png": "[encoded data removed]"
          },
          "metadata": {
            "needs_background": "light"
          }
        }
      ]
    },
    {
      "cell_type": "markdown",
      "source": [
        "Em ambos os gráficos, podemos concluir que a concentração de dados está entre 0.7 e 0.9 de eficiência de sono, coencidindo com o espaço entre o 2 e 4 quartil, mostrados no .describe . \n",
        "Além disso, os gráficos também representam os outliers da amostra analisada, mostrando que existe eficiências abaixo de 0.7 e superiores a 0.9"
      ],
      "metadata": {
        "id": "CePCUbhfJaDx"
      }
    },
    {
      "cell_type": "code",
      "source": [],
      "metadata": {
        "id": "8gPrIOQ-KCtg"
      },
      "execution_count": null,
      "outputs": []
    }
  ]
}